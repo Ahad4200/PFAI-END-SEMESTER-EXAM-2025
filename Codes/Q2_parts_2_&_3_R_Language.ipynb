{
  "nbformat": 4,
  "nbformat_minor": 0,
  "metadata": {
    "colab": {
      "provenance": []
    },
    "kernelspec": {
      "name": "ir",
      "display_name": "R"
    },
    "language_info": {
      "name": "R"
    }
  },
  "cells": [
    {
      "cell_type": "markdown",
      "source": [
        "# Question 2\n",
        "2)"
      ],
      "metadata": {
        "id": "HcwRnw7qRsCF"
      }
    },
    {
      "cell_type": "code",
      "metadata": {
        "colab": {
          "base_uri": "https://localhost:8080/",
          "height": 589
        },
        "id": "0a28b784",
        "outputId": "e3f82d56-c255-470d-b4aa-34973c876659"
      },
      "source": [
        "data(mtcars)\n",
        "str(mtcars)\n",
        "summary(mtcars)"
      ],
      "execution_count": 1,
      "outputs": [
        {
          "output_type": "stream",
          "name": "stdout",
          "text": [
            "'data.frame':\t32 obs. of  11 variables:\n",
            " $ mpg : num  21 21 22.8 21.4 18.7 18.1 14.3 24.4 22.8 19.2 ...\n",
            " $ cyl : num  6 6 4 6 8 6 8 4 4 6 ...\n",
            " $ disp: num  160 160 108 258 360 ...\n",
            " $ hp  : num  110 110 93 110 175 105 245 62 95 123 ...\n",
            " $ drat: num  3.9 3.9 3.85 3.08 3.15 2.76 3.21 3.69 3.92 3.92 ...\n",
            " $ wt  : num  2.62 2.88 2.32 3.21 3.44 ...\n",
            " $ qsec: num  16.5 17 18.6 19.4 17 ...\n",
            " $ vs  : num  0 0 1 1 0 1 0 1 1 1 ...\n",
            " $ am  : num  1 1 1 0 0 0 0 0 0 0 ...\n",
            " $ gear: num  4 4 4 3 3 3 3 4 4 4 ...\n",
            " $ carb: num  4 4 1 1 2 1 4 2 2 4 ...\n"
          ]
        },
        {
          "output_type": "display_data",
          "data": {
            "text/plain": [
              "      mpg             cyl             disp             hp       \n",
              " Min.   :10.40   Min.   :4.000   Min.   : 71.1   Min.   : 52.0  \n",
              " 1st Qu.:15.43   1st Qu.:4.000   1st Qu.:120.8   1st Qu.: 96.5  \n",
              " Median :19.20   Median :6.000   Median :196.3   Median :123.0  \n",
              " Mean   :20.09   Mean   :6.188   Mean   :230.7   Mean   :146.7  \n",
              " 3rd Qu.:22.80   3rd Qu.:8.000   3rd Qu.:326.0   3rd Qu.:180.0  \n",
              " Max.   :33.90   Max.   :8.000   Max.   :472.0   Max.   :335.0  \n",
              "      drat             wt             qsec             vs        \n",
              " Min.   :2.760   Min.   :1.513   Min.   :14.50   Min.   :0.0000  \n",
              " 1st Qu.:3.080   1st Qu.:2.581   1st Qu.:16.89   1st Qu.:0.0000  \n",
              " Median :3.695   Median :3.325   Median :17.71   Median :0.0000  \n",
              " Mean   :3.597   Mean   :3.217   Mean   :17.85   Mean   :0.4375  \n",
              " 3rd Qu.:3.920   3rd Qu.:3.610   3rd Qu.:18.90   3rd Qu.:1.0000  \n",
              " Max.   :4.930   Max.   :5.424   Max.   :22.90   Max.   :1.0000  \n",
              "       am              gear            carb      \n",
              " Min.   :0.0000   Min.   :3.000   Min.   :1.000  \n",
              " 1st Qu.:0.0000   1st Qu.:3.000   1st Qu.:2.000  \n",
              " Median :0.0000   Median :4.000   Median :2.000  \n",
              " Mean   :0.4062   Mean   :3.688   Mean   :2.812  \n",
              " 3rd Qu.:1.0000   3rd Qu.:4.000   3rd Qu.:4.000  \n",
              " Max.   :1.0000   Max.   :5.000   Max.   :8.000  "
            ]
          },
          "metadata": {}
        }
      ]
    },
    {
      "cell_type": "code",
      "source": [
        "# Load required library\n",
        "library(ggplot2)\n",
        "library(dplyr)\n",
        "\n",
        "# Group by gear and calculate average mpg and hp\n",
        "mtcars_grouped <- mtcars %>%\n",
        "  group_by(gear) %>%\n",
        "  summarise(avg_mpg = mean(mpg), avg_hp = mean(hp))\n",
        "\n",
        "# Reshape data for plotting\n",
        "mtcars_long <- tidyr::pivot_longer(mtcars_grouped,\n",
        "                                   cols = c(avg_mpg, avg_hp),\n",
        "                                   names_to = \"metric\",\n",
        "                                   values_to = \"value\")\n",
        "\n",
        "# Create grouped bar plot\n",
        "ggplot(mtcars_long, aes(x = factor(gear), y = value, fill = metric)) +\n",
        "  geom_bar(stat = \"identity\", position = position_dodge(width = 0.8)) +\n",
        "  labs(title = \"Average MPG and HP by Number of Gears\",\n",
        "       x = \"Number of Gears\",\n",
        "       y = \"Average Value\",\n",
        "       fill = \"Metric\") +\n",
        "  theme_minimal()"
      ],
      "metadata": {
        "colab": {
          "base_uri": "https://localhost:8080/",
          "height": 680
        },
        "id": "ZI2w7jz7P4-1",
        "outputId": "ba8c840d-c95b-43b7-aaff-b354e0abcfb7"
      },
      "execution_count": 2,
      "outputs": [
        {
          "output_type": "stream",
          "name": "stderr",
          "text": [
            "\n",
            "Attaching package: ‘dplyr’\n",
            "\n",
            "\n",
            "The following objects are masked from ‘package:stats’:\n",
            "\n",
            "    filter, lag\n",
            "\n",
            "\n",
            "The following objects are masked from ‘package:base’:\n",
            "\n",
            "    intersect, setdiff, setequal, union\n",
            "\n",
            "\n"
          ]
        },
        {
          "output_type": "display_data",
          "data": {
            "text/plain": [
              "plot without title"
            ],
            "image/png": "[encoded data removed]"
          },
          "metadata": {
            "image/png": {
              "width": 420,
              "height": 420
            }
          }
        }
      ]
    },
    {
      "cell_type": "markdown",
      "source": [
        "# Question 2\n",
        "3)"
      ],
      "metadata": {
        "id": "bjG94gbDR_wt"
      }
    },
    {
      "cell_type": "code",
      "source": [
        "# Load necessary libraries\n",
        "install.packages(\"caret\")\n",
        "install.packages(\"randomForest\")\n",
        "library(caret)\n",
        "library(randomForest)\n",
        "\n",
        "# Set random seed for reproducibility\n",
        "set.seed(123)\n",
        "\n",
        "# Split the data into training and testing sets (80% train, 20% test)\n",
        "train_index <- createDataPartition(mtcars$mpg, p = 0.8, list = FALSE)\n",
        "train_data <- mtcars[train_index, ]\n",
        "test_data <- mtcars[-train_index, ]\n",
        "\n",
        "# Separate features (X) and target variable (y) for training and testing sets\n",
        "train_x <- train_data[, -which(names(train_data) == \"mpg\")]\n",
        "train_y <- train_data$mpg\n",
        "test_x <- test_data[, -which(names(test_data) == \"mpg\")]\n",
        "test_y <- test_data$mpg\n",
        "\n",
        "# Scale the numerical features using preProcess\n",
        "# This is important for many machine learning algorithms, though less critical for Random Forest\n",
        "# We will fit the scaler on the training data and apply it to both training and testing data\n",
        "preproc_param <- preProcess(train_x, method = c(\"center\", \"scale\"))\n",
        "train_x_scaled <- predict(preproc_param, train_x)\n",
        "test_x_scaled <- predict(preproc_param, test_x)\n",
        "\n",
        "# Combine scaled features and target variable back into data frames for training and testing\n",
        "train_scaled <- cbind(train_x_scaled, mpg = train_y)\n",
        "test_scaled <- cbind(test_x_scaled, mpg = test_y)\n",
        "\n",
        "\n",
        "# Train a Random Forest model to predict mpg\n",
        "# The formula specifies mpg as the target and all other columns as predictors\n",
        "# ntree specifies the number of trees in the forest\n",
        "# mtry specifies the number of variables randomly sampled at each split\n",
        "rf_model <- randomForest(mpg ~ ., data = train_scaled, ntree = 500, mtry = floor(ncol(train_scaled)/3))\n",
        "\n",
        "# Make predictions on the scaled test data\n",
        "predictions <- predict(rf_model, test_scaled)\n",
        "\n",
        "# Evaluate the model performance\n",
        "\n",
        "# Calculate Root Mean Squared Error (RMSE)\n",
        "# RMSE measures the standard deviation of the residuals (prediction errors)\n",
        "rmse <- sqrt(mean((test_scaled$mpg - predictions)^2))\n",
        "cat(\"RMSE:\", rmse, \"\\n\")\n",
        "\n",
        "# Calculate R-squared\n",
        "# R-squared represents the proportion of the variance for a dependent variable that's explained by the independent variables in a regression model.\n",
        "# It ranges from 0 to 1, where 1 indicates a perfect fit.\n",
        "sse <- sum((test_scaled$mpg - predictions)^2) # Sum of squared errors\n",
        "sst <- sum((test_scaled$mpg - mean(test_scaled$mpg))^2) # Total sum of squares\n",
        "r_squared <- 1 - (sse / sst)\n",
        "cat(\"R-squared:\", r_squared, \"\\n\")"
      ],
      "metadata": {
        "colab": {
          "base_uri": "https://localhost:8080/"
        },
        "id": "0RwBO8qqQcpF",
        "outputId": "2544c495-c92c-46f7-e539-c77017caa27e"
      },
      "execution_count": 8,
      "outputs": [
        {
          "output_type": "stream",
          "name": "stderr",
          "text": [
            "Installing package into ‘/usr/local/lib/R/site-library’\n",
            "(as ‘lib’ is unspecified)\n",
            "\n",
            "Installing package into ‘/usr/local/lib/R/site-library’\n",
            "(as ‘lib’ is unspecified)\n",
            "\n",
            "randomForest 4.7-1.2\n",
            "\n",
            "Type rfNews() to see new features/changes/bug fixes.\n",
            "\n",
            "\n",
            "Attaching package: ‘randomForest’\n",
            "\n",
            "\n",
            "The following object is masked from ‘package:dplyr’:\n",
            "\n",
            "    combine\n",
            "\n",
            "\n",
            "The following object is masked from ‘package:ggplot2’:\n",
            "\n",
            "    margin\n",
            "\n",
            "\n"
          ]
        },
        {
          "output_type": "stream",
          "name": "stdout",
          "text": [
            "RMSE: 2.482045 \n",
            "R-squared: 0.8965005 \n"
          ]
        }
      ]
    }
  ]
}